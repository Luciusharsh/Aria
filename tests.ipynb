{
 "cells": [
  {
   "cell_type": "code",
   "execution_count": 1,
   "metadata": {},
   "outputs": [
    {
     "ename": "ModuleNotFoundError",
     "evalue": "No module named 'colorama'",
     "output_type": "error",
     "traceback": [
      "\u001b[0;31m---------------------------------------------------------------------------\u001b[0m",
      "\u001b[0;31mModuleNotFoundError\u001b[0m                       Traceback (most recent call last)",
      "Cell \u001b[0;32mIn[1], line 2\u001b[0m\n\u001b[1;32m      1\u001b[0m \u001b[38;5;28;01mimport\u001b[39;00m\u001b[38;5;250m \u001b[39m\u001b[38;5;21;01msys\u001b[39;00m\n\u001b[0;32m----> 2\u001b[0m \u001b[38;5;28;01mfrom\u001b[39;00m\u001b[38;5;250m \u001b[39m\u001b[38;5;21;01mcolorama\u001b[39;00m\u001b[38;5;250m \u001b[39m\u001b[38;5;28;01mimport\u001b[39;00m Fore, Style, init\n\u001b[1;32m      3\u001b[0m \u001b[38;5;28;01mimport\u001b[39;00m\u001b[38;5;250m \u001b[39m\u001b[38;5;21;01msubprocess\u001b[39;00m\n\u001b[1;32m      4\u001b[0m \u001b[38;5;28;01mimport\u001b[39;00m\u001b[38;5;250m \u001b[39m\u001b[38;5;21;01mplatform\u001b[39;00m\n",
      "\u001b[0;31mModuleNotFoundError\u001b[0m: No module named 'colorama'"
     ]
    }
   ],
   "source": [
    "import sys\n",
    "from colorama import Fore, Style, init\n",
    "import subprocess\n",
    "import platform\n",
    "import os\n",
    "from rich import print as rich_print\n",
    "from datetime import datetime\n",
    "init(autoreset=True)\n",
    "def main():\n",
    "    compatibility_test()\n",
    "def homebrew_installer():\n",
    "    now = datetime.now()\n",
    "    formatted = now.strftime(\"%Y-%m-%d %H:%M:%S\")\n",
    "    date_time = f\"[{formatted} --->]\"\n",
    "    with open(\"installer_py.log\", \"a\", buffering=1) as file:\n",
    "        try:\n",
    "            result = subprocess.run(\n",
    "                '/bin/bash -c \"$(curl -fsSL https://raw.githubusercontent.com/Homebrew/install/HEAD/install.sh)\"',\n",
    "                shell=True, capture_output=True, text=True\n",
    "            )\n",
    "            date_time = \"✅ Homebrew was installed\" + date_time\n",
    "            print(\"✅ Homebrew was installed\")\n",
    "            file.write(date_time+\"\\n\")\n",
    "        except subprocess.CalledProcessError:\n",
    "            print(Fore.RED + \"Some error occured, please retry. If the problem persists please report the issue in github\")\n",
    "            rich_print(\"[bold red][link=https://github.com/Luciusharsh]GITHUB PROFILE[/link][/bold red]\")\n",
    "\n",
    "def homebrew_test():\n",
    "    try:\n",
    "        homebrew = subprocess.run([\"brew\",\"--version\"],check=True,capture_output=True)\n",
    "        print(\"✅ Homebrew\")\n",
    "        homebrew_installer()\n",
    "    except subprocess.CalledProcessError:\n",
    "        print(\"❌ Homebrew not found!\")\n",
    "        print(Fore.RED + \"Homebrew is recomended to use this project!\")\n",
    "        tries = 5\n",
    "        while(tries):\n",
    "            reponse = str(input(Fore.LIGHTGREEN_EX + \"Install homebrew? (y/n) : \"))\n",
    "            if reponse==\"y\":\n",
    "                print(\"Installing homebrew in your system!\")\n",
    "                homebrew_installer()\n",
    "                break  \n",
    "            elif reponse==\"no\":\n",
    "                print(\"NO PROBLEM!!, we have other ways too make it work\")\n",
    "                break\n",
    "            else:\n",
    "                tries-=1\n",
    "                print(\"Please choose a valid option...\")\n",
    "                print(f\"Tries left = {tries}\")\n",
    "\n",
    "def mac_compatibility_test(system_name):\n",
    "    print(Fore.BLUE + f\"So you have {system_name}!. Lets's get started with the installation then!☺️\")\n",
    "    print(Fore.BLUE + \"Following upcomming steps will be easy!\")\n",
    "    homebrew_test()\n",
    "\n",
    "def compatibility_test():\n",
    "    print(Fore.GREEN + \"Checking your system Compatibility...\")\n",
    "    system_name = platform.system()\n",
    "    if system_name == \"Darwin\":\n",
    "        print(\"This is a Mac (macOS).\")\n",
    "        mac_compatibility_test(system_name)\n",
    "    elif system_name == \"Linux\":\n",
    "        print(\"This is a Linux system.\")\n",
    "    else:\n",
    "        print(Fore.BLUE + \"The program is not made for windows, but don't worry in future a windows version will be released!!\")\n",
    "        sys.exit()\n",
    "if __name__ == \"__main__\":\n",
    "    main()\n"
   ]
  },
  {
   "cell_type": "code",
   "execution_count": null,
   "metadata": {},
   "outputs": [],
   "source": [
    "pip install colorama\n"
   ]
  }
 ],
 "metadata": {
  "kernelspec": {
   "display_name": "Aria",
   "language": "python",
   "name": "python3"
  },
  "language_info": {
   "codemirror_mode": {
    "name": "ipython",
    "version": 3
   },
   "file_extension": ".py",
   "mimetype": "text/x-python",
   "name": "python",
   "nbconvert_exporter": "python",
   "pygments_lexer": "ipython3",
   "version": "3.9.21"
  }
 },
 "nbformat": 4,
 "nbformat_minor": 2
}
